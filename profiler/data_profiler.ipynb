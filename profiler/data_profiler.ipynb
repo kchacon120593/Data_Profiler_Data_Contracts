{
 "cells": [
  {
   "cell_type": "code",
   "execution_count": 1,
   "id": "76926d72",
   "metadata": {},
   "outputs": [],
   "source": [
    "from loader import load_contract, load_dataset\n",
    "from schema_builder import build_schema, validate_schema\n",
    "from rule_engine import get_contract_rules, validate_rules\n",
    "from alert_engine import get_contract_alerts, validate_alerts\n",
    "from scorer import score_violation\n",
    "from reporter import generate_markdown_report, generate_csv_report, generate_html_report"
   ]
  },
  {
   "cell_type": "markdown",
   "id": "89f642fb",
   "metadata": {},
   "source": [
    "# Loading contract and dataset"
   ]
  },
  {
   "cell_type": "code",
   "execution_count": 2,
   "id": "8d0f5be7",
   "metadata": {},
   "outputs": [],
   "source": [
    "df = load_dataset('C:\\\\Users\\\\Kevin\\\\OneDrive\\\\Personal\\\\GitHub\\\\data-contracts-data-profiler\\\\Data_Profiler_Data_Contracts\\\\data\\\\mock_data.csv'\n",
    "                  , ['created_at', 'updated_at'])\n",
    "contract = load_contract('C:\\\\Users\\\\Kevin\\\\OneDrive\\\\Personal\\\\GitHub\\\\data-contracts-data-profiler\\\\Data_Profiler_Data_Contracts\\\\contract\\\\data_contract.yaml')\n"
   ]
  },
  {
   "cell_type": "code",
   "execution_count": 3,
   "id": "0aa48c74",
   "metadata": {},
   "outputs": [
    {
     "data": {
      "text/plain": [
       "{'dataset_name': 'mock_data',\n",
       " 'owner': 'data-team@owner.com',\n",
       " 'refresh_frequency': 'daily',\n",
       " 'description': 'This is a mock dataset for testing purposes.',\n",
       " 'fields': [{'name': 'id',\n",
       "   'type': 'integer',\n",
       "   'description': 'Unique identifier for each record.',\n",
       "   'nullable': False,\n",
       "   'pii': False},\n",
       "  {'name': 'first_name',\n",
       "   'type': 'string',\n",
       "   'description': 'Name of the entity.',\n",
       "   'nullable': False,\n",
       "   'pii': True},\n",
       "  {'name': 'last_name',\n",
       "   'type': 'string',\n",
       "   'description': 'Last name of the entity.',\n",
       "   'nullable': False,\n",
       "   'pii': True},\n",
       "  {'name': 'gender',\n",
       "   'type': 'string',\n",
       "   'description': 'Gender of the entity.',\n",
       "   'nullable': False,\n",
       "   'pii': True},\n",
       "  {'name': 'ip_address',\n",
       "   'type': 'string',\n",
       "   'description': 'IP address of the entity.',\n",
       "   'nullable': False,\n",
       "   'pii': True},\n",
       "  {'name': 'weight',\n",
       "   'type': 'float',\n",
       "   'description': 'Weight of the entity.',\n",
       "   'nullable': False,\n",
       "   'pii': False},\n",
       "  {'name': 'age',\n",
       "   'type': 'integer',\n",
       "   'description': 'Age of the entity.',\n",
       "   'nullable': False,\n",
       "   'pii': False},\n",
       "  {'name': 'salary',\n",
       "   'type': 'float',\n",
       "   'description': 'Salary of the entity.',\n",
       "   'nullable': True,\n",
       "   'pii': False},\n",
       "  {'name': 'country',\n",
       "   'type': 'string',\n",
       "   'description': 'Country of the entity.',\n",
       "   'nullable': False,\n",
       "   'pii': False},\n",
       "  {'name': 'monthly_savings',\n",
       "   'type': 'float',\n",
       "   'description': 'Monthly savings of the entity.',\n",
       "   'nullable': True,\n",
       "   'pii': False},\n",
       "  {'name': 'marital_status',\n",
       "   'type': 'string',\n",
       "   'description': 'Marital status of the entity.',\n",
       "   'nullable': False,\n",
       "   'pii': False},\n",
       "  {'name': 'role',\n",
       "   'type': 'string',\n",
       "   'description': 'Role of the entity in the organization.',\n",
       "   'nullable': True,\n",
       "   'pii': False},\n",
       "  {'name': 'height',\n",
       "   'type': 'float',\n",
       "   'description': 'Height of the entity.',\n",
       "   'nullable': False,\n",
       "   'pii': False},\n",
       "  {'name': 'education_level',\n",
       "   'type': 'string',\n",
       "   'description': 'Education level of the entity.',\n",
       "   'nullable': True,\n",
       "   'pii': False},\n",
       "  {'name': 'years_experience',\n",
       "   'type': 'integer',\n",
       "   'description': 'Years of experience of the entity.',\n",
       "   'nullable': True,\n",
       "   'min_value': 0,\n",
       "   'max_value': 50,\n",
       "   'pii': False},\n",
       "  {'name': 'created_at',\n",
       "   'type': 'datetime',\n",
       "   'description': 'Timestamp when the record was created.',\n",
       "   'nullable': False,\n",
       "   'pii': False},\n",
       "  {'name': 'updated_at',\n",
       "   'type': 'datetime',\n",
       "   'description': 'Timestamp when the record was last updated.',\n",
       "   'nullable': False,\n",
       "   'pii': False}],\n",
       " 'rules': [{'name': 'schema_validation',\n",
       "   'description': 'Ensure that the dataset follows the defined schema.',\n",
       "   'severity': 'high',\n",
       "   'severity_point': 5,\n",
       "   'type': 'schema_check'},\n",
       "  {'name': 'valid_age_range',\n",
       "   'description': 'Ensure that the age field contains valid values.',\n",
       "   'severity': 'medium',\n",
       "   'severity_point': 3,\n",
       "   'type': 'range_check',\n",
       "   'fields': ['age'],\n",
       "   'min_value': 0,\n",
       "   'max_value': 120},\n",
       "  {'name': 'valid_weight_range',\n",
       "   'description': 'Ensure that the weight field contains valid values.',\n",
       "   'severity': 'medium',\n",
       "   'severity_point': 3,\n",
       "   'type': 'range_check',\n",
       "   'fields': ['weight'],\n",
       "   'min_value': 0,\n",
       "   'max_value': 500},\n",
       "  {'name': 'valid_height_range',\n",
       "   'description': 'Ensure that the height field contains valid values.',\n",
       "   'severity': 'medium',\n",
       "   'severity_point': 3,\n",
       "   'type': 'range_check',\n",
       "   'fields': ['height'],\n",
       "   'min_value': 0,\n",
       "   'max_value': 9},\n",
       "  {'name': 'valid_email_format',\n",
       "   'description': 'Ensure that the email field contains valid email addresses.',\n",
       "   'severity': 'medium',\n",
       "   'severity_point': 3,\n",
       "   'type': 'regex_check',\n",
       "   'fields': ['email'],\n",
       "   'regex': '^[a-zA-Z0-9._%+-]+@[a-zA-Z0-9.-]+\\\\.[a-zA-Z]{2,}$'},\n",
       "  {'name': 'valid_ip_format',\n",
       "   'description': 'Ensure that the IP address field contains valid IP addresses.',\n",
       "   'severity': 'low',\n",
       "   'severity_point': 1,\n",
       "   'type': 'regex_check',\n",
       "   'fields': ['ip_address'],\n",
       "   'regex': '^(25[0-5]|2[0-4][0-9]|[01]?[0-9][0-9]?)\\\\.(25[0-5]|2[0-4][0-9]|[01]?[0-9][0-9]?)\\\\.(25[0-5]|2[0-4][0-9]|[01]?[0-9][0-9]?)\\\\.(25[0-5]|2[0-4][0-9]|[01]?[0-9][0-9]?)$'},\n",
       "  {'name': 'no_null_values',\n",
       "   'description': 'Ensure that there are no null values in the dataset.',\n",
       "   'severity': 'high',\n",
       "   'severity_point': 5,\n",
       "   'type': 'null_check',\n",
       "   'fields': ['id',\n",
       "    'first_name',\n",
       "    'last_name',\n",
       "    'email',\n",
       "    'gender',\n",
       "    'ip_address',\n",
       "    'weight',\n",
       "    'age',\n",
       "    'country',\n",
       "    'marital_status',\n",
       "    'height',\n",
       "    'created_at',\n",
       "    'updated_at']}],\n",
       " 'alerts': [{'name': 'completness_check',\n",
       "   'description': 'Ensure that no more than 5% of the records should be missing values in nullable fields.',\n",
       "   'severity': 'high',\n",
       "   'type': 'completeness_check',\n",
       "   'threshold': 0.05,\n",
       "   'fields': ['salary',\n",
       "    'monthly_savings',\n",
       "    'role',\n",
       "    'education_level',\n",
       "    'years_experience']},\n",
       "  {'name': 'tags',\n",
       "   'description': 'Ensure that the dataset is tagged correctly.',\n",
       "   'severity': 'high',\n",
       "   'type': 'tag_check',\n",
       "   'tags': ['pii'],\n",
       "   'fields': ['id', 'first_name', 'last_name', 'email', 'ip_address']}]}"
      ]
     },
     "execution_count": 3,
     "metadata": {},
     "output_type": "execute_result"
    }
   ],
   "source": [
    "#Showing mock contract\n",
    "contract"
   ]
  },
  {
   "cell_type": "markdown",
   "id": "ff299077",
   "metadata": {},
   "source": [
    "# Schema validation"
   ]
  },
  {
   "cell_type": "code",
   "execution_count": 4,
   "id": "892d1390",
   "metadata": {},
   "outputs": [
    {
     "name": "stdout",
     "output_type": "stream",
     "text": [
      "<Schema DataFrameSchema(\n",
      "    columns={\n",
      "        'id': <Schema Column(name=id, type=DataType(int64))>\n",
      "        'first_name': <Schema Column(name=first_name, type=DataType(str))>\n",
      "        'last_name': <Schema Column(name=last_name, type=DataType(str))>\n",
      "        'gender': <Schema Column(name=gender, type=DataType(str))>\n",
      "        'ip_address': <Schema Column(name=ip_address, type=DataType(str))>\n",
      "        'weight': <Schema Column(name=weight, type=DataType(float64))>\n",
      "        'age': <Schema Column(name=age, type=DataType(int64))>\n",
      "        'salary': <Schema Column(name=salary, type=DataType(float64))>\n",
      "        'country': <Schema Column(name=country, type=DataType(str))>\n",
      "        'monthly_savings': <Schema Column(name=monthly_savings, type=DataType(float64))>\n",
      "        'marital_status': <Schema Column(name=marital_status, type=DataType(str))>\n",
      "        'role': <Schema Column(name=role, type=DataType(str))>\n",
      "        'height': <Schema Column(name=height, type=DataType(float64))>\n",
      "        'education_level': <Schema Column(name=education_level, type=DataType(str))>\n",
      "        'years_experience': <Schema Column(name=years_experience, type=DataType(int64))>\n",
      "        'created_at': <Schema Column(name=created_at, type=DataType(datetime64[ns]))>\n",
      "        'updated_at': <Schema Column(name=updated_at, type=DataType(datetime64[ns]))>\n",
      "    },\n",
      "    checks=[],\n",
      "    parsers=[],\n",
      "    coerce=False,\n",
      "    dtype=None,\n",
      "    index=None,\n",
      "    strict=False,\n",
      "    name=None,\n",
      "    ordered=False,\n",
      "    unique_column_names=False,\n",
      "    metadata=None, \n",
      "    add_missing_columns=False\n",
      ")>\n"
     ]
    }
   ],
   "source": [
    "print(build_schema(contract))"
   ]
  },
  {
   "cell_type": "code",
   "execution_count": 5,
   "id": "c78e4aab",
   "metadata": {},
   "outputs": [
    {
     "data": {
      "text/plain": [
       "'Schema validation passed'"
      ]
     },
     "execution_count": 5,
     "metadata": {},
     "output_type": "execute_result"
    }
   ],
   "source": [
    "# Shows schema validation\n",
    "validate_schema(df, contract)"
   ]
  },
  {
   "cell_type": "markdown",
   "id": "57400b3b",
   "metadata": {},
   "source": [
    "# Rules validation"
   ]
  },
  {
   "cell_type": "code",
   "execution_count": 6,
   "id": "546ec9e0",
   "metadata": {},
   "outputs": [
    {
     "data": {
      "text/plain": [
       "[{'name': 'valid_age_range',\n",
       "  'description': 'Ensure that the age field contains valid values.',\n",
       "  'severity': 'medium',\n",
       "  'severity_point': 3,\n",
       "  'type': 'range_check',\n",
       "  'fields': ['age'],\n",
       "  'min_value': 0,\n",
       "  'max_value': 120},\n",
       " {'name': 'valid_weight_range',\n",
       "  'description': 'Ensure that the weight field contains valid values.',\n",
       "  'severity': 'medium',\n",
       "  'severity_point': 3,\n",
       "  'type': 'range_check',\n",
       "  'fields': ['weight'],\n",
       "  'min_value': 0,\n",
       "  'max_value': 500},\n",
       " {'name': 'valid_height_range',\n",
       "  'description': 'Ensure that the height field contains valid values.',\n",
       "  'severity': 'medium',\n",
       "  'severity_point': 3,\n",
       "  'type': 'range_check',\n",
       "  'fields': ['height'],\n",
       "  'min_value': 0,\n",
       "  'max_value': 9},\n",
       " {'name': 'valid_email_format',\n",
       "  'description': 'Ensure that the email field contains valid email addresses.',\n",
       "  'severity': 'medium',\n",
       "  'severity_point': 3,\n",
       "  'type': 'regex_check',\n",
       "  'fields': ['email'],\n",
       "  'regex': '^[a-zA-Z0-9._%+-]+@[a-zA-Z0-9.-]+\\\\.[a-zA-Z]{2,}$'},\n",
       " {'name': 'valid_ip_format',\n",
       "  'description': 'Ensure that the IP address field contains valid IP addresses.',\n",
       "  'severity': 'low',\n",
       "  'severity_point': 1,\n",
       "  'type': 'regex_check',\n",
       "  'fields': ['ip_address'],\n",
       "  'regex': '^(25[0-5]|2[0-4][0-9]|[01]?[0-9][0-9]?)\\\\.(25[0-5]|2[0-4][0-9]|[01]?[0-9][0-9]?)\\\\.(25[0-5]|2[0-4][0-9]|[01]?[0-9][0-9]?)\\\\.(25[0-5]|2[0-4][0-9]|[01]?[0-9][0-9]?)$'},\n",
       " {'name': 'no_null_values',\n",
       "  'description': 'Ensure that there are no null values in the dataset.',\n",
       "  'severity': 'high',\n",
       "  'severity_point': 5,\n",
       "  'type': 'null_check',\n",
       "  'fields': ['id',\n",
       "   'first_name',\n",
       "   'last_name',\n",
       "   'email',\n",
       "   'gender',\n",
       "   'ip_address',\n",
       "   'weight',\n",
       "   'age',\n",
       "   'country',\n",
       "   'marital_status',\n",
       "   'height',\n",
       "   'created_at',\n",
       "   'updated_at']}]"
      ]
     },
     "execution_count": 6,
     "metadata": {},
     "output_type": "execute_result"
    }
   ],
   "source": [
    "rules = get_contract_rules(contract)\n",
    "rules"
   ]
  },
  {
   "cell_type": "code",
   "execution_count": 7,
   "id": "0a43c5a1",
   "metadata": {},
   "outputs": [
    {
     "data": {
      "text/plain": [
       "[{'field': 'age',\n",
       "  'rule': 'range_check',\n",
       "  'severity': 'medium',\n",
       "  'severity_points': 3,\n",
       "  'min_value': 0,\n",
       "  'max_value': 120,\n",
       "  'actual_value': np.int64(200),\n",
       "  'error': 'max_value',\n",
       "  'timestamp': datetime.datetime(2025, 5, 19, 9, 20, 26, 481709)},\n",
       " {'field': 'height',\n",
       "  'rule': 'range_check',\n",
       "  'severity': 'medium',\n",
       "  'severity_points': 3,\n",
       "  'min_value': 0,\n",
       "  'max_value': 9,\n",
       "  'actual_value': np.float64(11.0),\n",
       "  'error': 'max_value',\n",
       "  'timestamp': datetime.datetime(2025, 5, 19, 9, 20, 26, 482710)},\n",
       " {'field': 'ip_address',\n",
       "  'rule': 'regex_check',\n",
       "  'severity': 'low',\n",
       "  'severity_points': 1,\n",
       "  'regex': '^(25[0-5]|2[0-4][0-9]|[01]?[0-9][0-9]?)\\\\.(25[0-5]|2[0-4][0-9]|[01]?[0-9][0-9]?)\\\\.(25[0-5]|2[0-4][0-9]|[01]?[0-9][0-9]?)\\\\.(25[0-5]|2[0-4][0-9]|[01]?[0-9][0-9]?)$',\n",
       "  'actual_value': 2    252/30.214-249\n",
       "  Name: ip_address, dtype: object,\n",
       "  'error': 'regex_mismatch',\n",
       "  'timestamp': datetime.datetime(2025, 5, 19, 9, 20, 26, 486709)},\n",
       " {'field': 'email',\n",
       "  'rule': 'null_check',\n",
       "  'severity': 'high',\n",
       "  'severity_points': 5,\n",
       "  'actual_value': 4    NaN\n",
       "  5    NaN\n",
       "  6    NaN\n",
       "  Name: email, dtype: object,\n",
       "  'error': 'null_value',\n",
       "  'timestamp': datetime.datetime(2025, 5, 19, 9, 20, 26, 486709)}]"
      ]
     },
     "execution_count": 7,
     "metadata": {},
     "output_type": "execute_result"
    }
   ],
   "source": [
    "#Shows rules violations\n",
    "\n",
    "rules_violations = validate_rules(df, rules)\n",
    "rules_violations"
   ]
  },
  {
   "cell_type": "markdown",
   "id": "4e18add5",
   "metadata": {},
   "source": [
    "# Alerts validation"
   ]
  },
  {
   "cell_type": "code",
   "execution_count": 8,
   "id": "556d7cbc",
   "metadata": {},
   "outputs": [
    {
     "data": {
      "text/plain": [
       "[{'name': 'completness_check',\n",
       "  'description': 'Ensure that no more than 5% of the records should be missing values in nullable fields.',\n",
       "  'severity': 'high',\n",
       "  'type': 'completeness_check',\n",
       "  'threshold': 0.05,\n",
       "  'fields': ['salary',\n",
       "   'monthly_savings',\n",
       "   'role',\n",
       "   'education_level',\n",
       "   'years_experience']},\n",
       " {'name': 'tags',\n",
       "  'description': 'Ensure that the dataset is tagged correctly.',\n",
       "  'severity': 'high',\n",
       "  'type': 'tag_check',\n",
       "  'tags': ['pii'],\n",
       "  'fields': ['id', 'first_name', 'last_name', 'email', 'ip_address']}]"
      ]
     },
     "execution_count": 8,
     "metadata": {},
     "output_type": "execute_result"
    }
   ],
   "source": [
    "alerts = get_contract_alerts(contract)\n",
    "alerts"
   ]
  },
  {
   "cell_type": "code",
   "execution_count": 9,
   "id": "38b3e5d4",
   "metadata": {},
   "outputs": [
    {
     "data": {
      "text/plain": [
       "[{'field': 'education_level',\n",
       "  'alert': 'completeness_check',\n",
       "  'severity': 'high',\n",
       "  'column': 'education_level',\n",
       "  'threshold': 0.05,\n",
       "  'null_ratio': np.float64(0.102),\n",
       "  'timestamp': datetime.datetime(2025, 5, 19, 9, 20, 26, 506795)},\n",
       " {'field': 'id',\n",
       "  'alert': 'tag_check',\n",
       "  'severity': 'high',\n",
       "  'column': 'id',\n",
       "  'tags': ['pii'],\n",
       "  'timestamp': datetime.datetime(2025, 5, 19, 9, 20, 26, 506795)}]"
      ]
     },
     "execution_count": 9,
     "metadata": {},
     "output_type": "execute_result"
    }
   ],
   "source": [
    "# Shows triggered alerts\n",
    "valid_alerts = validate_alerts(df, contract, alerts)\n",
    "valid_alerts"
   ]
  },
  {
   "cell_type": "markdown",
   "id": "fdab47f2",
   "metadata": {},
   "source": [
    "# Scorer"
   ]
  },
  {
   "cell_type": "code",
   "execution_count": 10,
   "id": "70552c00",
   "metadata": {},
   "outputs": [
    {
     "data": {
      "text/plain": [
       "{'total_points': 12, 'issues_count': 4, 'status': 'fail', 'threshold': 5}"
      ]
     },
     "execution_count": 10,
     "metadata": {},
     "output_type": "execute_result"
    }
   ],
   "source": [
    "score_violation = score_violation(rules_violations, threshold=5)\n",
    "score_violation"
   ]
  },
  {
   "cell_type": "markdown",
   "id": "7aeac415",
   "metadata": {},
   "source": [
    "# Report"
   ]
  },
  {
   "cell_type": "code",
   "execution_count": null,
   "id": "78133a40",
   "metadata": {},
   "outputs": [],
   "source": [
    "#Generates reports in Markdown, CSV and HTML formats\n",
    "generate_markdown_report(rules_violations,score_violation)\n",
    "generate_csv_report(rules_violations)\n",
    "generate_html_report(rules_violations,score_violation,alerts)"
   ]
  }
 ],
 "metadata": {
  "kernelspec": {
   "display_name": ".venv",
   "language": "python",
   "name": "python3"
  },
  "language_info": {
   "codemirror_mode": {
    "name": "ipython",
    "version": 3
   },
   "file_extension": ".py",
   "mimetype": "text/x-python",
   "name": "python",
   "nbconvert_exporter": "python",
   "pygments_lexer": "ipython3",
   "version": "3.11.2"
  }
 },
 "nbformat": 4,
 "nbformat_minor": 5
}
